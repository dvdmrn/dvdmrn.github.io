{
 "cells": [
  {
   "cell_type": "code",
   "execution_count": 1,
   "metadata": {},
   "outputs": [],
   "source": [
    "from scholarly import scholarly"
   ]
  },
  {
   "cell_type": "code",
   "execution_count": 2,
   "metadata": {},
   "outputs": [],
   "source": [
    "def Publication(authors, title, date, venue) -> dict:\n",
    "    d = {\n",
    "        \"authors\":authors,\n",
    "        \"title\": title,\n",
    "        \"date\": date,\n",
    "        \"venue\": ven\n",
    "    }\n",
    "    return d"
   ]
  },
  {
   "cell_type": "code",
   "execution_count": 16,
   "metadata": {},
   "outputs": [
    {
     "name": "stdout",
     "output_type": "stream",
     "text": [
      "{'container_type': 'Author', 'filled': ['basics'], 'scholar_id': 'dLgup7MAAAAJ', 'source': <AuthorSource.AUTHOR_PROFILE_PAGE: 'AUTHOR_PROFILE_PAGE'>, 'name': 'David Marino', 'url_picture': 'https://scholar.googleusercontent.com/citations?view_op=view_photo&user=dLgup7MAAAAJ&citpid=4', 'affiliation': 'Hitachi', 'interests': ['HCI', 'Multimodal Communication', 'Affective Computing', 'Design', 'Human-AI-Interaction'], 'email_domain': '@cim.mcgill.ca', 'homepage': 'http://dvdmrn.xyz/hci', 'citedby': 77}\n"
     ]
    }
   ],
   "source": [
    "\n",
    "search_query = scholarly.search_author_id('dLgup7MAAAAJ')\n",
    "print(search_query)\n",
    "author = scholarly.fill(search_query)\n",
    "pubs = author['publications']"
   ]
  },
  {
   "cell_type": "code",
   "execution_count": 17,
   "metadata": {},
   "outputs": [],
   "source": [
    "\n",
    "pubs = scholarly.search_single_pub(pubs[0][\"bib\"][\"title\"])\n",
    "\n",
    "venue = pubs[\"bib\"].get('container', pubs[\"bib\"].get('venue', ''))\n",
    "# pass\n",
    "# for pub in pubs:\n",
    "#     bib = pub[\"bib\"]\n",
    "#     author = pub[\"author\"]\n",
    "#     title = pub[\"title\"]\n",
    "#     date = pub[\"pub_year\"]\n",
    "#     venue = pub[\"venue\"]"
   ]
  },
  {
   "cell_type": "code",
   "execution_count": 18,
   "metadata": {},
   "outputs": [
    {
     "data": {
      "text/plain": [
       "'Proceedings of the …'"
      ]
     },
     "execution_count": 18,
     "metadata": {},
     "output_type": "execute_result"
    }
   ],
   "source": [
    "venue"
   ]
  },
  {
   "cell_type": "code",
   "execution_count": null,
   "metadata": {},
   "outputs": [],
   "source": [
    "\n",
    "\n",
    "\n",
    "\n",
    "\n",
    "\n",
    "publication_array = []\n",
    "for pub in pubs:\n",
    "    pub = scholarly.search_single_pub(pub[\"bib\"][\"title\"])[\"bib\"]\n",
    "    print(\"FOUND PUB!\")\n",
    "    print(pub)\n",
    "    author = pub[\"author\"]\n",
    "    title = pub[\"title\"]\n",
    "    date = pub[\"pub_year\"]\n",
    "    venue = pub[\"venue\"]\n",
    "    publication_array.append(Publication(author,title,date,venue))\n",
    "\n",
    "print(publication_array)\n",
    "exit()\n",
    "pu = scholarly.search_single_pub(first_publication[0][\"bib\"][\"title\"])\n",
    "print(pub[\"bib\"][\"author\"])\n",
    "\n",
    "print(\"0000000000000000000000\")\n",
    "print(f\"pub length: {len(first_publication)}\")\n",
    "exit()\n",
    "# pub = Publication(first_publication[])\n",
    "\n",
    "\n",
    "print(first_publication)\n",
    "# first_publication_filled = scholarly.fill(first_publication)\n",
    "# scholarly.pprint(first_publication_filled)\n",
    "exit()\n",
    "# Print the titles of the author's publications\n",
    "publication_titles = [pub['bib']['title'] for pub in author['publications']]\n",
    "print(publication_titles)"
   ]
  }
 ],
 "metadata": {
  "kernelspec": {
   "display_name": "Python 3",
   "language": "python",
   "name": "python3"
  },
  "language_info": {
   "codemirror_mode": {
    "name": "ipython",
    "version": 3
   },
   "file_extension": ".py",
   "mimetype": "text/x-python",
   "name": "python",
   "nbconvert_exporter": "python",
   "pygments_lexer": "ipython3",
   "version": "3.10.12"
  }
 },
 "nbformat": 4,
 "nbformat_minor": 2
}
